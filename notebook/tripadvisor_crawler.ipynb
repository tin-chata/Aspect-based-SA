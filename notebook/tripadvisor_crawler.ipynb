{
 "cells": [
  {
   "cell_type": "code",
   "execution_count": 1,
   "metadata": {},
   "outputs": [],
   "source": [
    "from selenium import webdriver  \n",
    "from bs4 import BeautifulSoup\n",
    "import requests\n",
    "tripadvisorca = \"https://www.tripadvisor.ca\"\n",
    "region_link = \"https://www.tripadvisor.ca/Hotels-g154913-Calgary_Alberta-Hotels.html\"\n",
    "region_ID = \"-g154913-\""
   ]
  },
  {
   "cell_type": "code",
   "execution_count": 2,
   "metadata": {},
   "outputs": [
    {
     "data": {
      "text/plain": [
       "['https://www.tripadvisor.ca/Hotels-g154913-oa0-Calgary_Alberta-Hotels.html',\n",
       " 'https://www.tripadvisor.ca/Hotels-g154913-oa30-Calgary_Alberta-Hotels.html',\n",
       " 'https://www.tripadvisor.ca/Hotels-g154913-oa60-Calgary_Alberta-Hotels.html',\n",
       " 'https://www.tripadvisor.ca/Hotels-g154913-oa90-Calgary_Alberta-Hotels.html',\n",
       " 'https://www.tripadvisor.ca/Hotels-g154913-oa120-Calgary_Alberta-Hotels.html',\n",
       " 'https://www.tripadvisor.ca/Hotels-g154913-oa150-Calgary_Alberta-Hotels.html',\n",
       " 'https://www.tripadvisor.ca/Hotels-g154913-oa180-Calgary_Alberta-Hotels.html']"
      ]
     },
     "execution_count": 2,
     "metadata": {},
     "output_type": "execute_result"
    }
   ],
   "source": [
    "def region_urls(first_url, region_ID=\"-g154913-\"):\n",
    "    result = requests.get(first_url)\n",
    "    content = result.content\n",
    "    soup = BeautifulSoup(content, \"html.parser\")\n",
    "    num_pages = int(soup.find_all(\"a\", attrs={\"class\":\"pageNum last taLnk \"})[0].get_text(strip=True))\n",
    "    list_urls = []\n",
    "    for i in range(num_pages):\n",
    "        bn = region_ID + \"oa\" + str(i * 30) + \"-\"\n",
    "        url = first_url.replace(region_ID, bn)\n",
    "        list_urls.append(url)\n",
    "    return list_urls\n",
    "region_links = region_urls(region_link)\n",
    "region_links"
   ]
  },
  {
   "cell_type": "code",
   "execution_count": 3,
   "metadata": {},
   "outputs": [
    {
     "data": {
      "text/plain": [
       "[('International Hotel and Spa Calgary',\n",
       "  '/Hotel_Review-g154913-d182256-Reviews-International_Hotel_and_Spa_Calgary-Calgary_Alberta.html#REVIEWS',\n",
       "  3065),\n",
       " ('The Fairmont Palliser',\n",
       "  '/Hotel_Review-g154913-d185694-Reviews-The_Fairmont_Palliser-Calgary_Alberta.html#REVIEWS',\n",
       "  2701),\n",
       " ('Hyatt Regency Calgary',\n",
       "  '/Hotel_Review-g154913-d184252-Reviews-Hyatt_Regency_Calgary-Calgary_Alberta.html#REVIEWS',\n",
       "  1806),\n",
       " ('Best Western Premier Freeport Inn & Suites',\n",
       "  '/Hotel_Review-g154913-d1974054-Reviews-Best_Western_Premier_Freeport_Inn_Suites-Calgary_Alberta.html#REVIEWS',\n",
       "  1672),\n",
       " ('The Westin Calgary',\n",
       "  '/Hotel_Review-g154913-d155238-Reviews-The_Westin_Calgary-Calgary_Alberta.html#REVIEWS',\n",
       "  1585)]"
      ]
     },
     "execution_count": 3,
     "metadata": {},
     "output_type": "execute_result"
    }
   ],
   "source": [
    "def hotel_urls(list_urls):\n",
    "    list_hotel = []\n",
    "    for page in list_urls:\n",
    "        result = requests.get(page)\n",
    "        content = result.content\n",
    "        soup = BeautifulSoup(content, \"html.parser\")\n",
    "        \n",
    "        urls = soup.find_all(\"a\", attrs={\"class\": \"review_count\"})\n",
    "        names = soup.find_all(\"a\", attrs={\"class\": \"property_title prominent \"})\n",
    "        assert len(urls) == len(names)\n",
    "        for i,d in enumerate(urls):\n",
    "            name = names[i].get_text(strip=True)\n",
    "            rev_num = int(d.get_text(strip=True).split()[0].replace(',', ''))\n",
    "            url = d.get(\"href\")\n",
    "            list_hotel.append((name, url, rev_num))\n",
    "    list_hotel.sort(key=lambda x: x[2], reverse=True)\n",
    "    return list_hotel\n",
    "hotel_links = hotel_urls(region_links)\n",
    "hotel_links[:5]"
   ]
  },
  {
   "cell_type": "code",
   "execution_count": 4,
   "metadata": {},
   "outputs": [
    {
     "data": {
      "text/plain": [
       "['https://www.tripadvisor.ca/Hotel_Review-g154913-d182256-Reviews-or0-International_Hotel_and_Spa_Calgary-Calgary_Alberta.html#REVIEWS',\n",
       " 'https://www.tripadvisor.ca/Hotel_Review-g154913-d182256-Reviews-or5-International_Hotel_and_Spa_Calgary-Calgary_Alberta.html#REVIEWS',\n",
       " 'https://www.tripadvisor.ca/Hotel_Review-g154913-d182256-Reviews-or10-International_Hotel_and_Spa_Calgary-Calgary_Alberta.html#REVIEWS',\n",
       " 'https://www.tripadvisor.ca/Hotel_Review-g154913-d182256-Reviews-or15-International_Hotel_and_Spa_Calgary-Calgary_Alberta.html#REVIEWS',\n",
       " 'https://www.tripadvisor.ca/Hotel_Review-g154913-d182256-Reviews-or20-International_Hotel_and_Spa_Calgary-Calgary_Alberta.html#REVIEWS']"
      ]
     },
     "execution_count": 4,
     "metadata": {},
     "output_type": "execute_result"
    }
   ],
   "source": [
    "hotel_link = tripadvisorca + hotel_links[0][1]\n",
    "def review_urls(hotel_link):\n",
    "    result = requests.get(hotel_link)\n",
    "    content = result.content\n",
    "    soup = BeautifulSoup(content, \"html.parser\")\n",
    "    num_pages = int(soup.find_all(\"a\", attrs={\"class\":\"pageNum last taLnk \"})[0].get_text(strip=True))\n",
    "    list_urls = []\n",
    "    for i in range(num_pages):\n",
    "        bn = \"-Reviews-or\" + str(i * 5) + \"-\"\n",
    "        url = hotel_link.replace(\"-Reviews-\", bn)\n",
    "        list_urls.append(url)\n",
    "    return list_urls\n",
    "review_links = review_urls(hotel_link)\n",
    "review_links[:5]"
   ]
  },
  {
   "cell_type": "code",
   "execution_count": 78,
   "metadata": {},
   "outputs": [
    {
     "name": "stdout",
     "output_type": "stream",
     "text": [
      "Streaming 5 reviews took 9.3499 (seconds)\n"
     ]
    },
    {
     "data": {
      "text/plain": [
       "[('September 14, 2018',\n",
       "  'Elevator was not working and blocked for luggage movement, No proper service for Guest. I had to wait for 20 minutes each day for elevator and delay to office each day. I came on business travel and each day because of the elevator issue had to reach office (banker hall) late. Poor elevator service.',\n",
       "  '20'),\n",
       " ('September 13, 2018',\n",
       "  'A great place to stay if traveling on on business to Calgary, as very quick and easy access to the airport and the main Financial District. Spacious suites, with outdoor space, and friendly reception.',\n",
       "  '50'),\n",
       " ('September 9, 2018',\n",
       "  'Yes this hotel is under construction.Very noisy, and we ended up with an old room.Very pricey for a room that had a very hard bed and the lights in the bathroom didnt work.This was the worst business trip we have been on.',\n",
       "  '20'),\n",
       " ('September 9, 2018',\n",
       "  'Everyone can understand a renovation will impose some challenges. But that’s not what made me swap hotels- International Hotel is a little run down, I accept that as they are renovating. But here’s the deal.1. Greeting at the front desk for check in. Not really, I’d been better off checking in myself.2. Pick up the in room menu, it’s covered in grease stains and dirty, along with the other paper work.3. Call room service, get patched thru via front desk, o one answers. Call again, front desk says they know you called, they will call you back.28 min later, finally get the call. Call again for an addition to the order, no answer, no call back. Room smells like feet. Paid for parking via hotel, got a ticket anyway. Now I have to fight the ticket. Moved out down the street to the Westin. Calgary downtown hotels meh, I’ll travel next time to a holiday Inn express or super 8. 250+ a night, nah. I’ll pass',\n",
       "  '10'),\n",
       " ('September 7, 2018',\n",
       "  'Sad to say on our very very short visit we were less than impressed. 3 elevators for a 35 story building does not cut it. Got a bit concerned when we arrived and it took a very long time to get an elevator to our room on the 6th floor. SO given this made what we thought were reasonable adjustments to meet our shuttle the next morning only to have to wait in excess of 20 minutes for the elevator and had to resort to going up to the 35th floor from the 6th to get to the Lobby. JUST NOT GOOD ENOUGH.\\nAlso understand refurbishment underway. Management need to look very closely at the finishing. If in existence very very shoddy. Staff great tho must say that as a positive. Will never stay there again',\n",
       "  '10')]"
      ]
     },
     "execution_count": 78,
     "metadata": {},
     "output_type": "execute_result"
    }
   ],
   "source": [
    "import time\n",
    "from selenium import webdriver\n",
    "from selenium.webdriver.common.by import By\n",
    "from selenium.webdriver.firefox.options import Options\n",
    "from selenium.webdriver.support.ui import WebDriverWait\n",
    "from selenium.webdriver.support import expected_conditions as EC\n",
    "opts = Options()\n",
    "opts.set_headless()\n",
    "opts.set_preference(\"permissions.default.image\", 2)\n",
    "assert opts.headless  # Operating in headless mode\n",
    "\n",
    "review_link = review_links[0]\n",
    "def reviews_data(review_link):\n",
    "    data = []\n",
    "    now = time.time()\n",
    "#     browser = webdriver.Firefox(options=opts)\n",
    "    browser = webdriver.Firefox()\n",
    "    browser.implicitly_wait(10)\n",
    "    browser.get(review_link)\n",
    "    review_zone = browser.find_element_by_id(\"taplc_location_reviews_list_resp_hr_resp_0\")\n",
    "    #find the first button\n",
    "#     first_btn = review_zone.find_element_by_class_name(\"ulBlueLinks\")\n",
    "    first_btn = review_zone.find_element_by_css_selector(\"div.prw_rup.prw_reviews_text_summary_hsx > div > p > span\")\n",
    "    first_btn.click()\n",
    "    time.sleep(1)\n",
    "    revs = review_zone.find_elements_by_css_selector(\"div.ui_column.is-9 > div.prw_rup.prw_reviews_text_summary_hsx > div > p\")\n",
    "    dats = review_zone.find_elements_by_css_selector(\"div.ui_column.is-9 > span.ratingDate\")\n",
    "    rats = review_zone.find_elements_by_css_selector(\"div.ui_column.is-9 > span.ui_bubble_rating\")\n",
    "    assert len(dats) == len(rats) == len(revs) == 5\n",
    "    for i, rev in enumerate(revs):\n",
    "        data.append((dats[i].get_attribute(\"title\"),rev.text, rats[i].get_attribute(\"class\").split()[-1].split(\"_\")[-1]))\n",
    "    browser.quit()\n",
    "    print(\"Streaming %d reviews took %.4f (seconds)\" % (len(data),time.time()-now))\n",
    "    return data\n",
    "data = reviews_data(review_links[0])\n",
    "data"
   ]
  },
  {
   "cell_type": "code",
   "execution_count": 87,
   "metadata": {},
   "outputs": [
    {
     "name": "stdout",
     "output_type": "stream",
     "text": [
      "False\n",
      "True\n",
      "True\n"
     ]
    }
   ],
   "source": [
    "opts = Options()\n",
    "print(opts.headless)\n",
    "opts.set_headless()\n",
    "print(opts.headless)\n",
    "opts.set_preference(\"--headless\", False)\n",
    "print(opts.headless)"
   ]
  },
  {
   "cell_type": "code",
   "execution_count": 46,
   "metadata": {},
   "outputs": [],
   "source": [
    "review_link = \"https://www.tripadvisor.ca/Hotel_Review-g154913-d182256-Reviews-or285-International_Hotel_and_Spa_Calgary-Calgary_Alberta.html\"\n",
    "review_link = 'https://www.tripadvisor.ca/Hotel_Review-g154913-d182256-Reviews-or0-International_Hotel_and_Spa_Calgary-Calgary_Alberta.html#REVIEWS'\n",
    "data = []\n",
    "browser = webdriver.Firefox()\n",
    "browser.implicitly_wait(10)\n",
    "browser.get(review_link)\n",
    "review_zone = browser.find_element_by_id(\"taplc_location_reviews_list_resp_hr_resp_0\")"
   ]
  },
  {
   "cell_type": "code",
   "execution_count": 47,
   "metadata": {},
   "outputs": [
    {
     "name": "stdout",
     "output_type": "stream",
     "text": [
      "0.8380601406097412\n"
     ]
    }
   ],
   "source": [
    "now = time.time()\n",
    "try:\n",
    "    more_buttons = review_zone.find_elements_by_css_selector(\"div.prw_rup.prw_reviews_text_summary_hsx > div > p > span\")\n",
    "    if len(more_buttons) > 0:\n",
    "        more_buttons[0].click()\n",
    "        time.sleep(.1)\n",
    "    print(time.time()-now)\n",
    "except:\n",
    "    print(\"no 'more' button\")\n",
    "    print(time.time()-now)"
   ]
  },
  {
   "cell_type": "code",
   "execution_count": 58,
   "metadata": {},
   "outputs": [
    {
     "name": "stdout",
     "output_type": "stream",
     "text": [
      "5\n"
     ]
    },
    {
     "data": {
      "text/plain": [
       "'September 13, 2018'"
      ]
     },
     "execution_count": 58,
     "metadata": {},
     "output_type": "execute_result"
    }
   ],
   "source": [
    "#review_616230222 > div > div.ui_column.is-9 > span.ratingDate\n",
    "#review_616230222 > div > div.ui_column.is-9 > span.ratingDate\n",
    "#review_616230222 > div > div.ui_column.is-9 > span.ui_bubble_rating.bubble_50\n",
    "dats = review_zone.find_elements_by_css_selector(\"div.ui_column.is-9 > span.ratingDate\")\n",
    "dat = dats[0]\n",
    "print(len(dats))\n",
    "dat.get_attribute(\"title\")"
   ]
  },
  {
   "cell_type": "code",
   "execution_count": 88,
   "metadata": {},
   "outputs": [
    {
     "ename": "AttributeError",
     "evalue": "module 'datetime' has no attribute 'strptime'",
     "output_type": "error",
     "traceback": [
      "\u001b[0;31m---------------------------------------------------------------------------\u001b[0m",
      "\u001b[0;31mAttributeError\u001b[0m                            Traceback (most recent call last)",
      "\u001b[0;32m<ipython-input-88-10ee838cba1d>\u001b[0m in \u001b[0;36m<module>\u001b[0;34m()\u001b[0m\n\u001b[1;32m      1\u001b[0m \u001b[0;32mimport\u001b[0m \u001b[0mdatetime\u001b[0m\u001b[0;34m\u001b[0m\u001b[0m\n\u001b[0;32m----> 2\u001b[0;31m \u001b[0mdatetime\u001b[0m\u001b[0;34m.\u001b[0m\u001b[0mstrptime\u001b[0m\u001b[0;34m(\u001b[0m\u001b[0mdat\u001b[0m\u001b[0;34m.\u001b[0m\u001b[0mget_attribute\u001b[0m\u001b[0;34m(\u001b[0m\u001b[0;34m\"title\"\u001b[0m\u001b[0;34m)\u001b[0m\u001b[0;34m,\u001b[0m \u001b[0;34m'%m/%d/%Y'\u001b[0m\u001b[0;34m)\u001b[0m\u001b[0;34m\u001b[0m\u001b[0m\n\u001b[0m",
      "\u001b[0;31mAttributeError\u001b[0m: module 'datetime' has no attribute 'strptime'"
     ]
    }
   ],
   "source": [
    "from datetime import datetime\n",
    "datetime.strptime(dat.get_attribute(\"title\"), '%B %d, %Y')"
   ]
  },
  {
   "cell_type": "code",
   "execution_count": 59,
   "metadata": {},
   "outputs": [
    {
     "data": {
      "text/plain": [
       "5"
      ]
     },
     "execution_count": 59,
     "metadata": {},
     "output_type": "execute_result"
    }
   ],
   "source": [
    "rats = review_zone.find_elements_by_css_selector(\"div.ui_column.is-9 > span.ui_bubble_rating\")\n",
    "rat = rats[0]\n",
    "len(rats)\n"
   ]
  },
  {
   "cell_type": "code",
   "execution_count": 75,
   "metadata": {},
   "outputs": [
    {
     "data": {
      "text/plain": [
       "'50'"
      ]
     },
     "execution_count": 75,
     "metadata": {},
     "output_type": "execute_result"
    }
   ],
   "source": [
    "rat.get_attribute(\"class\").split()[-1].split(\"_\")[-1]"
   ]
  },
  {
   "cell_type": "code",
   "execution_count": 77,
   "metadata": {},
   "outputs": [],
   "source": [
    "browser.quit()"
   ]
  },
  {
   "cell_type": "code",
   "execution_count": null,
   "metadata": {},
   "outputs": [],
   "source": [
    "#find the first button\n",
    "# first_btn = review_zone.(\"ulBlueLinks\")\n",
    "first_btn = review_zone.find_element_by_css_selector(\"div.prw_rup.prw_reviews_text_summary_hsx > div > p > span\")\n",
    "first_btn.click()\n",
    "time.sleep(1)\n",
    "revs = review_zone.find_elements_by_css_selector(\"div.ui_column.is-9 > div.prw_rup.prw_reviews_text_summary_hsx > div > p\")\n",
    "assert len(revs) == 5\n",
    "for rev in revs:\n",
    "    data.append(rev.text)"
   ]
  },
  {
   "cell_type": "code",
   "execution_count": null,
   "metadata": {},
   "outputs": [],
   "source": [
    "//*[@id=\"review_615263430\"]/div/div[2]/div[2]/div/p/span\n",
    "//*[@id=\"review_616230222\"]/div/div[2]/div[2]/div/p/span\n",
    "#review_616230222 > div > div.ui_column.is-9 > div.prw_rup.prw_reviews_text_summary_hsx > div > p > span\n",
    "//*[@id=\"taplc_location_reviews_list_resp_hr_resp_0\"]"
   ]
  },
  {
   "cell_type": "code",
   "execution_count": 45,
   "metadata": {},
   "outputs": [
    {
     "name": "stdout",
     "output_type": "stream",
     "text": [
      "Page 58 doesn't have a more section\n",
      "Page 98 doesn't have a 'p' section\n",
      "Page 167 doesn't have a more section\n",
      "Page 293 doesn't have a more section\n",
      "Page 325 doesn't have a more section\n",
      "Page 382 doesn't have a more section\n",
      "Page 406 doesn't have a more section\n",
      "Page 434 doesn't have a more section\n",
      "Can't read the reviews at page 435\n",
      "Can't read the reviews at page 436\n",
      "Can't read the reviews at page 437\n",
      "Can't read the reviews at page 438\n",
      "Can't read the reviews at page 439\n",
      "Can't read the reviews at page 440\n",
      "Can't read the reviews at page 441\n",
      "Can't read the reviews at page 442\n",
      "Can't read the reviews at page 443\n",
      "Can't read the reviews at page 444\n",
      "Can't read the reviews at page 445\n",
      "Can't read the reviews at page 446\n",
      "Can't read the reviews at page 447\n",
      "Can't read the reviews at page 448\n",
      "Can't read the reviews at page 449\n",
      "Can't read the reviews at page 450\n",
      "Can't read the reviews at page 451\n",
      "Can't read the reviews at page 452\n",
      "Can't read the reviews at page 453\n",
      "Can't read the reviews at page 454\n",
      "Can't read the reviews at page 455\n",
      "Can't read the reviews at page 456\n",
      "Can't read the reviews at page 457\n",
      "Can't read the reviews at page 458\n",
      "Can't read the reviews at page 459\n",
      "Can't read the reviews at page 460\n",
      "Can't read the reviews at page 461\n",
      "Can't read the reviews at page 462\n",
      "Can't read the reviews at page 463\n",
      "Can't read the reviews at page 464\n",
      "Can't read the reviews at page 465\n",
      "Can't read the reviews at page 466\n",
      "Can't read the reviews at page 467\n",
      "Can't read the reviews at page 468\n",
      "Can't read the reviews at page 469\n",
      "Can't read the reviews at page 470\n",
      "Can't read the reviews at page 471\n",
      "Can't read the reviews at page 472\n",
      "Can't read the reviews at page 473\n",
      "Can't read the reviews at page 474\n",
      "Can't read the reviews at page 475\n",
      "Can't read the reviews at page 476\n",
      "Can't read the reviews at page 477\n",
      "Can't read the reviews at page 478\n",
      "Can't read the reviews at page 479\n",
      "Can't read the reviews at page 480\n",
      "Can't read the reviews at page 481\n",
      "Can't read the reviews at page 482\n",
      "Can't read the reviews at page 483\n",
      "Can't read the reviews at page 484\n",
      "Can't read the reviews at page 485\n",
      "Can't read the reviews at page 486\n",
      "Can't read the reviews at page 487\n",
      "Can't read the reviews at page 488\n",
      "Can't read the reviews at page 489\n",
      "Can't read the reviews at page 490\n",
      "Can't read the reviews at page 491\n",
      "Can't read the reviews at page 492\n",
      "Can't read the reviews at page 493\n",
      "Can't read the reviews at page 494\n",
      "Can't read the reviews at page 495\n",
      "Can't read the reviews at page 496\n",
      "Can't read the reviews at page 497\n",
      "Can't read the reviews at page 498\n",
      "Can't read the reviews at page 499\n",
      "Can't read the reviews at page 500\n",
      "Can't read the reviews at page 501\n",
      "Can't read the reviews at page 502\n",
      "Can't read the reviews at page 503\n",
      "Can't read the reviews at page 504\n",
      "Can't read the reviews at page 505\n",
      "Can't read the reviews at page 506\n",
      "Can't read the reviews at page 507\n",
      "Can't read the reviews at page 508\n",
      "Can't read the reviews at page 509\n",
      "Can't read the reviews at page 510\n",
      "Can't read the reviews at page 511\n",
      "Can't read the reviews at page 512\n",
      "Can't read the reviews at page 513\n",
      "Can't read the reviews at page 514\n",
      "Can't read the reviews at page 515\n",
      "Can't read the reviews at page 516\n",
      "Can't read the reviews at page 517\n",
      "Can't read the reviews at page 518\n",
      "Can't read the reviews at page 519\n",
      "Can't read the reviews at page 520\n",
      "Can't read the reviews at page 521\n",
      "Can't read the reviews at page 522\n",
      "Can't read the reviews at page 523\n",
      "Can't read the reviews at page 524\n",
      "Can't read the reviews at page 525\n",
      "Can't read the reviews at page 526\n",
      "Can't read the reviews at page 527\n",
      "Can't read the reviews at page 528\n",
      "Can't read the reviews at page 529\n",
      "Can't read the reviews at page 530\n",
      "Can't read the reviews at page 531\n",
      "Can't read the reviews at page 532\n",
      "Can't read the reviews at page 533\n",
      "Can't read the reviews at page 534\n",
      "Can't read the reviews at page 535\n",
      "Can't read the reviews at page 536\n",
      "Can't read the reviews at page 537\n",
      "Can't read the reviews at page 538\n",
      "Can't read the reviews at page 539\n",
      "Can't read the reviews at page 540\n",
      "Can't read the reviews at page 541\n",
      "Can't read the reviews at page 542\n",
      "Can't read the reviews at page 543\n",
      "Can't read the reviews at page 544\n",
      "Can't read the reviews at page 545\n",
      "Can't read the reviews at page 546\n",
      "Can't read the reviews at page 547\n",
      "Can't read the reviews at page 548\n",
      "Can't read the reviews at page 549\n",
      "Can't read the reviews at page 550\n",
      "Can't read the reviews at page 551\n",
      "Can't read the reviews at page 552\n",
      "Can't read the reviews at page 553\n",
      "Can't read the reviews at page 554\n",
      "Can't read the reviews at page 555\n",
      "Can't read the reviews at page 556\n",
      "Can't read the reviews at page 557\n",
      "Can't read the reviews at page 558\n",
      "Can't read the reviews at page 559\n",
      "Can't read the reviews at page 560\n",
      "Can't read the reviews at page 561\n",
      "Can't read the reviews at page 562\n",
      "Can't read the reviews at page 563\n",
      "Can't read the reviews at page 564\n",
      "Can't read the reviews at page 565\n",
      "Can't read the reviews at page 566\n",
      "Can't read the reviews at page 567\n",
      "Can't read the reviews at page 568\n",
      "Can't read the reviews at page 569\n",
      "Can't read the reviews at page 570\n",
      "Can't read the reviews at page 571\n",
      "Can't read the reviews at page 572\n",
      "Can't read the reviews at page 573\n",
      "Can't read the reviews at page 574\n",
      "Can't read the reviews at page 575\n",
      "Can't read the reviews at page 576\n",
      "Can't read the reviews at page 577\n",
      "Can't read the reviews at page 578\n",
      "Can't read the reviews at page 579\n",
      "Can't read the reviews at page 580\n",
      "Can't read the reviews at page 581\n",
      "Can't read the reviews at page 582\n",
      "Can't read the reviews at page 583\n",
      "Can't read the reviews at page 584\n",
      "Can't read the reviews at page 585\n",
      "Can't read the reviews at page 586\n"
     ]
    }
   ],
   "source": [
    "from selenium.webdriver.common.by import By\n",
    "from selenium.webdriver.support.ui import WebDriverWait\n",
    "from selenium.webdriver.support import expected_conditions as EC\n",
    "import time\n",
    "\n",
    "review_link = review_links[0] # page i + 1\n",
    "\n",
    "data = []\n",
    "# browser = webdriver.Firefox(options=opts)\n",
    "browser = webdriver.Firefox()\n",
    "wait = WebDriverWait(browser, 10)\n",
    "browser.implicitly_wait(10)\n",
    "browser.get(review_link)\n",
    "review_zone = browser.find_element_by_id(\"taplc_location_reviews_list_resp_hr_resp_0\")\n",
    "#find the first button\n",
    "wait.until_not(EC.visibility_of_element_located((By.CLASS_NAME, \"tabs_pers_titles\")))\n",
    "more_buttons = review_zone.find_elements_by_css_selector(\"div.prw_rup.prw_reviews_text_summary_hsx > div > p > span\")\n",
    "if len(more_buttons) > 0:\n",
    "    more_buttons[0].click()\n",
    "    time.sleep(.1)\n",
    "# review_zone.find_element_by_css_selector(\"div.prw_rup.prw_reviews_text_summary_hsx > div > p > span\").click()\n",
    "wait.until(EC.visibility_of_all_elements_located((By.CSS_SELECTOR, 'div.ui_column.is-9 > div.prw_rup.prw_reviews_text_summary_hsx > div > p')))\n",
    "revs = review_zone.find_elements_by_css_selector(\"div.ui_column.is-9 > div.prw_rup.prw_reviews_text_summary_hsx > div > p\")\n",
    "assert len(revs) == 5\n",
    "for rev in revs:\n",
    "    data.append(rev.text)\n",
    "    \n",
    "num_pages = int(review_zone.find_element_by_css_selector(\"a.pageNum.last.taLnk\").text)\n",
    "# num_pages = 3\n",
    "i = 1\n",
    "while i<num_pages:\n",
    "    i += 1\n",
    "    try:\n",
    "        # located next button and clicked on it\n",
    "        review_zone.find_element_by_css_selector(\"a.nav.next.taLnk.ui_button.primary\").click()\n",
    "        # wait until the new content is loaded\n",
    "        try:\n",
    "            wait.until_not(EC.visibility_of_element_located((By.ID, \"taplc_hotels_loading_box_hr_resp_0\")))\n",
    "        except:\n",
    "            print(\"Page %d is reloaded\"%i-1)\n",
    "            time.sleep(1)\n",
    "            continue\n",
    "            \n",
    "        try:\n",
    "            wait.until(EC.visibility_of_all_elements_located((By.CSS_SELECTOR, 'div.ui_column.is-9 > div.prw_rup.prw_reviews_text_summary_hsx > div > p > span')))\n",
    "            more_buttons = review_zone.find_elements_by_css_selector(\"div.prw_rup.prw_reviews_text_summary_hsx > div > p > span\")\n",
    "            if len(more_buttons) > 0:\n",
    "                more_buttons[0].click()\n",
    "                time.sleep(.1)\n",
    "#             review_zone.find_element_by_css_selector(\"div.prw_rup.prw_reviews_text_summary_hsx > div > p > span\").click()\n",
    "        except:\n",
    "            # In case of not having a <more> field\n",
    "            print(\"Page %d doesn't have the 'more' section\"%i)\n",
    "            time.sleep(1)\n",
    "            continue\n",
    "            \n",
    "        try:\n",
    "            wait.until(EC.visibility_of_all_elements_located((By.CSS_SELECTOR, 'div.ui_column.is-9 > div.prw_rup.prw_reviews_text_summary_hsx > div > p')))\n",
    "            revs = review_zone.find_elements_by_css_selector(\"div.ui_column.is-9 > div.prw_rup.prw_reviews_text_summary_hsx > div > p\")\n",
    "            dats = review_zone.find_elements_by_css_selector(\"div.ui_column.is-9 > span.ratingDate\")\n",
    "            rats = review_zone.find_elements_by_css_selector(\"div.ui_column.is-9 > span.ui_bubble_rating\")\n",
    "            assert len(dats) == len(rats) == len(revs) == 5\n",
    "            for i, rev in enumerate(revs):\n",
    "                data.append((dats[i].get_attribute(\"title\"),rev.text, rats[i].get_attribute(\"class\").split()[-1].split(\"_\")[-1]))\n",
    "\n",
    "        except:\n",
    "            # In case of not having a <more> field\n",
    "            print(\"Page %d doesn't have the 'p' section\"%i)\n",
    "            time.sleep(1)\n",
    "            revs = review_zone.find_elements_by_css_selector(\"div.ui_column.is-9 > div.prw_rup.prw_reviews_text_summary_hsx > div > p\")\n",
    "            dats = review_zone.find_elements_by_css_selector(\"div.ui_column.is-9 > span.ratingDate\")\n",
    "            rats = review_zone.find_elements_by_css_selector(\"div.ui_column.is-9 > span.ui_bubble_rating\")\n",
    "            assert len(dats) == len(rats) == len(revs) == 5\n",
    "            for i, rev in enumerate(revs):\n",
    "                data.append((dats[i].get_attribute(\"title\"),rev.text, rats[i].get_attribute(\"class\").split()[-1].split(\"_\")[-1]))\n",
    "\n",
    "            continue\n",
    "            \n",
    "    except:\n",
    "        print(\"Can't scrape the reviews at page %d\"%i)\n",
    "        time.sleep(1)\n",
    "        continue\n",
    "        \n",
    "browser.quit()"
   ]
  },
  {
   "cell_type": "code",
   "execution_count": null,
   "metadata": {},
   "outputs": [],
   "source": [
    "#review_604831330 > div > div.ui_column.is-9 > div.prw_rup.prw_reviews_text_summary_hsx > div > p\n",
    "#review_492466432 > div > div.ui_column.is-9 > div.prw_rup.prw_reviews_text_summary_hsx > div > p"
   ]
  },
  {
   "cell_type": "code",
   "execution_count": 116,
   "metadata": {},
   "outputs": [],
   "source": [
    "browser.quit()"
   ]
  },
  {
   "cell_type": "code",
   "execution_count": 70,
   "metadata": {},
   "outputs": [],
   "source": [
    "nxt = review_zone.find_element_by_css_selector(\"a.nav.next.taLnk.ui_button.primary\")\n",
    "nxt.click()"
   ]
  },
  {
   "cell_type": "code",
   "execution_count": 71,
   "metadata": {},
   "outputs": [],
   "source": [
    "first_btn = review_zone.find_element_by_class_name(\"ulBlueLinks\")\n",
    "first_btn.click()\n",
    "browser.implicitly_wait(2)"
   ]
  },
  {
   "cell_type": "code",
   "execution_count": 72,
   "metadata": {},
   "outputs": [],
   "source": [
    "revs = review_zone.find_elements_by_class_name(\"ui_column.is-9\")\n",
    "revs = review_zone.find_elements_by_css_selector(\"div.ui_column.is-9 > div.prw_rup.prw_reviews_text_summary_hsx > div > p\")\n",
    "assert len(revs) == 5\n",
    "for rev in revs:\n",
    "    data.append(rev.text)"
   ]
  },
  {
   "cell_type": "code",
   "execution_count": 21,
   "metadata": {},
   "outputs": [],
   "source": [
    "#taplc_location_reviews_list_resp_hr_resp_0 > div > div:nth-child(10) > div > div > div > a.pageNum.last.taLnk\n",
    "#taplc_location_reviews_list_resp_hr_resp_0 > div > div:nth-child(10) > div > div > a.nav.next.taLnk.ui_button.primary\n",
    "#taplc_location_reviews_list_resp_hr_resp_0 > div > div:nth-child(10) > div > div > a.nav.next.taLnk.ui_button.primary\n",
    "#taplc_location_reviews_list_resp_hr_resp_0 > div > div:nth-child(10) > div > div > a.nav.next.taLnk.ui_button.primary"
   ]
  },
  {
   "cell_type": "code",
   "execution_count": 113,
   "metadata": {},
   "outputs": [
    {
     "data": {
      "text/plain": [
       "[]"
      ]
     },
     "execution_count": 113,
     "metadata": {},
     "output_type": "execute_result"
    }
   ],
   "source": [
    "review_zone.find_elements_by_css_selector(\"div.ui_column.is-9 > div.prw_rup.prw_reviews_text_summary_hsx > div > p\")"
   ]
  },
  {
   "cell_type": "code",
   "execution_count": null,
   "metadata": {},
   "outputs": [],
   "source": []
  }
 ],
 "metadata": {
  "kernelspec": {
   "display_name": "Python 3",
   "language": "python",
   "name": "python3"
  },
  "language_info": {
   "codemirror_mode": {
    "name": "ipython",
    "version": 3
   },
   "file_extension": ".py",
   "mimetype": "text/x-python",
   "name": "python",
   "nbconvert_exporter": "python",
   "pygments_lexer": "ipython3",
   "version": "3.6.6"
  }
 },
 "nbformat": 4,
 "nbformat_minor": 2
}
