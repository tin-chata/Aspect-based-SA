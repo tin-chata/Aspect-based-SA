{
 "cells": [
  {
   "cell_type": "code",
   "execution_count": 1,
   "metadata": {},
   "outputs": [],
   "source": [
    "from selenium import webdriver  \n",
    "from bs4 import BeautifulSoup\n",
    "import requests\n",
    "tripadvisorca = \"https://www.tripadvisor.ca\"\n",
    "region_link = \"https://www.tripadvisor.ca/Hotels-g154913-Calgary_Alberta-Hotels.html\"\n",
    "region_ID = \"-g154913-\""
   ]
  },
  {
   "cell_type": "code",
   "execution_count": 2,
   "metadata": {},
   "outputs": [
    {
     "data": {
      "text/plain": [
       "['https://www.tripadvisor.ca/Hotels-g154913-oa0-Calgary_Alberta-Hotels.html',\n",
       " 'https://www.tripadvisor.ca/Hotels-g154913-oa30-Calgary_Alberta-Hotels.html',\n",
       " 'https://www.tripadvisor.ca/Hotels-g154913-oa60-Calgary_Alberta-Hotels.html',\n",
       " 'https://www.tripadvisor.ca/Hotels-g154913-oa90-Calgary_Alberta-Hotels.html',\n",
       " 'https://www.tripadvisor.ca/Hotels-g154913-oa120-Calgary_Alberta-Hotels.html',\n",
       " 'https://www.tripadvisor.ca/Hotels-g154913-oa150-Calgary_Alberta-Hotels.html',\n",
       " 'https://www.tripadvisor.ca/Hotels-g154913-oa180-Calgary_Alberta-Hotels.html']"
      ]
     },
     "execution_count": 2,
     "metadata": {},
     "output_type": "execute_result"
    }
   ],
   "source": [
    "def region_urls(first_url, region_ID=\"-g154913-\"):\n",
    "    result = requests.get(first_url)\n",
    "    content = result.content\n",
    "    soup = BeautifulSoup(content, \"html.parser\")\n",
    "    num_pages = int(soup.find_all(\"a\", attrs={\"class\":\"pageNum last taLnk \"})[0].get_text(strip=True))\n",
    "    list_urls = []\n",
    "    for i in range(num_pages):\n",
    "        bn = region_ID + \"oa\" + str(i * 30) + \"-\"\n",
    "        url = first_url.replace(region_ID, bn)\n",
    "        list_urls.append(url)\n",
    "    return list_urls\n",
    "region_links = region_urls(region_link)\n",
    "region_links"
   ]
  },
  {
   "cell_type": "code",
   "execution_count": 3,
   "metadata": {},
   "outputs": [
    {
     "data": {
      "text/plain": [
       "[('International Hotel and Spa Calgary',\n",
       "  '/Hotel_Review-g154913-d182256-Reviews-International_Hotel_and_Spa_Calgary-Calgary_Alberta.html#REVIEWS',\n",
       "  3065),\n",
       " ('The Fairmont Palliser',\n",
       "  '/Hotel_Review-g154913-d185694-Reviews-The_Fairmont_Palliser-Calgary_Alberta.html#REVIEWS',\n",
       "  2701),\n",
       " ('Hyatt Regency Calgary',\n",
       "  '/Hotel_Review-g154913-d184252-Reviews-Hyatt_Regency_Calgary-Calgary_Alberta.html#REVIEWS',\n",
       "  1806),\n",
       " ('Best Western Premier Freeport Inn & Suites',\n",
       "  '/Hotel_Review-g154913-d1974054-Reviews-Best_Western_Premier_Freeport_Inn_Suites-Calgary_Alberta.html#REVIEWS',\n",
       "  1672),\n",
       " ('The Westin Calgary',\n",
       "  '/Hotel_Review-g154913-d155238-Reviews-The_Westin_Calgary-Calgary_Alberta.html#REVIEWS',\n",
       "  1585)]"
      ]
     },
     "execution_count": 3,
     "metadata": {},
     "output_type": "execute_result"
    }
   ],
   "source": [
    "def hotel_urls(list_urls):\n",
    "    list_hotel = []\n",
    "    for page in list_urls:\n",
    "        result = requests.get(page)\n",
    "        content = result.content\n",
    "        soup = BeautifulSoup(content, \"html.parser\")\n",
    "        \n",
    "        urls = soup.find_all(\"a\", attrs={\"class\": \"review_count\"})\n",
    "        names = soup.find_all(\"a\", attrs={\"class\": \"property_title prominent \"})\n",
    "        assert len(urls) == len(names)\n",
    "        for i,d in enumerate(urls):\n",
    "            name = names[i].get_text(strip=True)\n",
    "            rev_num = int(d.get_text(strip=True).split()[0].replace(',', ''))\n",
    "            url = d.get(\"href\")\n",
    "            list_hotel.append((name, url, rev_num))\n",
    "    list_hotel.sort(key=lambda x: x[2], reverse=True)\n",
    "    return list_hotel\n",
    "hotel_links = hotel_urls(region_links)\n",
    "hotel_links[:5]"
   ]
  },
  {
   "cell_type": "code",
   "execution_count": 4,
   "metadata": {},
   "outputs": [
    {
     "data": {
      "text/plain": [
       "['https://www.tripadvisor.ca/Hotel_Review-g154913-d182256-Reviews-or0-International_Hotel_and_Spa_Calgary-Calgary_Alberta.html#REVIEWS',\n",
       " 'https://www.tripadvisor.ca/Hotel_Review-g154913-d182256-Reviews-or5-International_Hotel_and_Spa_Calgary-Calgary_Alberta.html#REVIEWS',\n",
       " 'https://www.tripadvisor.ca/Hotel_Review-g154913-d182256-Reviews-or10-International_Hotel_and_Spa_Calgary-Calgary_Alberta.html#REVIEWS',\n",
       " 'https://www.tripadvisor.ca/Hotel_Review-g154913-d182256-Reviews-or15-International_Hotel_and_Spa_Calgary-Calgary_Alberta.html#REVIEWS',\n",
       " 'https://www.tripadvisor.ca/Hotel_Review-g154913-d182256-Reviews-or20-International_Hotel_and_Spa_Calgary-Calgary_Alberta.html#REVIEWS']"
      ]
     },
     "execution_count": 4,
     "metadata": {},
     "output_type": "execute_result"
    }
   ],
   "source": [
    "hotel_link = tripadvisorca + hotel_links[0][1]\n",
    "def review_urls(hotel_link):\n",
    "    result = requests.get(hotel_link)\n",
    "    content = result.content\n",
    "    soup = BeautifulSoup(content, \"html.parser\")\n",
    "    num_pages = int(soup.find_all(\"a\", attrs={\"class\":\"pageNum last taLnk \"})[0].get_text(strip=True))\n",
    "    list_urls = []\n",
    "    for i in range(num_pages):\n",
    "        bn = \"-Reviews-or\" + str(i * 5) + \"-\"\n",
    "        url = hotel_link.replace(\"-Reviews-\", bn)\n",
    "        list_urls.append(url)\n",
    "    return list_urls\n",
    "review_links = review_urls(hotel_link)\n",
    "review_links[:5]"
   ]
  },
  {
   "cell_type": "code",
   "execution_count": 10,
   "metadata": {},
   "outputs": [
    {
     "name": "stdout",
     "output_type": "stream",
     "text": [
      "Streaming 5 reviews took 7.2426 (seconds)\n"
     ]
    },
    {
     "data": {
      "text/plain": [
       "['A great place to stay if traveling on on business to Calgary, as very quick and easy access to the airport and the main Financial District. Spacious suites, with outdoor space, and friendly reception.',\n",
       " 'Yes this hotel is under construction.Very noisy, and we ended up with an old room.Very pricey for a room that had a very hard bed and the lights in the bathroom didnt work.This was the worst business trip we have been on.',\n",
       " 'Everyone can understand a renovation will impose some challenges. But that’s not what made me swap hotels- International Hotel is a little run down, I accept that as they are renovating. But here’s the deal.1. Greeting at the front desk for check in. Not really, I’d been better off checking in myself.2. Pick up the in room menu, it’s covered in grease stains and dirty, along with the other paper work.3. Call room service, get patched thru via front desk, o one answers. Call again, front desk says they know you called, they will call you back.28 min later, finally get the call. Call again for an addition to the order, no answer, no call back. Room smells like feet. Paid for parking via hotel, got a ticket anyway. Now I have to fight the ticket. Moved out down the street to the Westin. Calgary downtown hotels meh, I’ll travel next time to a holiday Inn express or super 8. 250+ a night, nah. I’ll pass',\n",
       " 'Sad to say on our very very short visit we were less than impressed. 3 elevators for a 35 story building does not cut it. Got a bit concerned when we arrived and it took a very long time to get an elevator to our room on the 6th floor. SO given this made what we thought were reasonable adjustments to meet our shuttle the next morning only to have to wait in excess of 20 minutes for the elevator and had to resort to going up to the 35th floor from the 6th to get to the Lobby. JUST NOT GOOD ENOUGH.\\nAlso understand refurbishment underway. Management need to look very closely at the finishing. If in existence very very shoddy. Staff great tho must say that as a positive. Will never stay there again',\n",
       " \"I stayed here for business for 3 nights early September. There are apparently renovations going on in this old hotel but other than the dust and filthy windows they were not witnessed. There were large parties checking out on the first day. It literally took 10 minutes to get an elevator and then you were like a sardine on the ride down. The elevators are extremely loud. I can hear them from my room. Especially disturbing in the evening. The food in the restaurant (both) was slow to be served in the lounge and mediocre at best.\\nThe topper is having NO heat my whole trip. Literally the boiler is broken and they sent up a small fan heater. It has been 0 Celsius over night. I can't fathom how this is acceptable. I do not recommend this hotel and will not stay again.\"]"
      ]
     },
     "execution_count": 10,
     "metadata": {},
     "output_type": "execute_result"
    }
   ],
   "source": [
    "import time\n",
    "from selenium import webdriver\n",
    "from selenium.webdriver.common.by import By\n",
    "from selenium.webdriver.firefox.options import Options\n",
    "from selenium.webdriver.support.ui import WebDriverWait\n",
    "from selenium.webdriver.support import expected_conditions as EC\n",
    "opts = Options()\n",
    "opts.set_headless()\n",
    "opts.set_preference(\"permissions.default.image\", 2)\n",
    "assert opts.headless  # Operating in headless mode\n",
    "\n",
    "review_link = review_links[0]\n",
    "def reviews_data(review_link):\n",
    "    data = []\n",
    "    now = time.time()\n",
    "#     browser = webdriver.Firefox(options=opts)\n",
    "    browser = webdriver.Firefox()\n",
    "    browser.implicitly_wait(10)\n",
    "    browser.get(review_link)\n",
    "    review_zone = browser.find_element_by_id(\"taplc_location_reviews_list_resp_hr_resp_0\")\n",
    "    #find the first button\n",
    "#     first_btn = review_zone.find_element_by_class_name(\"ulBlueLinks\")\n",
    "    first_btn = review_zone.find_element_by_css_selector(\"div.prw_rup.prw_reviews_text_summary_hsx > div > p > span\")\n",
    "    first_btn.click()\n",
    "    time.sleep(1)\n",
    "    revs = review_zone.find_elements_by_css_selector(\"div.ui_column.is-9 > div.prw_rup.prw_reviews_text_summary_hsx > div > p\")\n",
    "    assert len(revs) == 5\n",
    "    for rev in revs:\n",
    "        data.append(rev.text)\n",
    "    browser.quit()\n",
    "    print(\"Streaming %d reviews took %.4f (seconds)\" % (len(data),time.time()-now))\n",
    "    return data\n",
    "data = reviews_data(review_links[0])\n",
    "data"
   ]
  },
  {
   "cell_type": "code",
   "execution_count": 11,
   "metadata": {},
   "outputs": [],
   "source": [
    "data = []\n",
    "browser = webdriver.Firefox()\n",
    "browser.implicitly_wait(10)\n",
    "browser.get(review_link)"
   ]
  },
  {
   "cell_type": "code",
   "execution_count": 12,
   "metadata": {},
   "outputs": [],
   "source": [
    "review_zone = browser.find_element_by_id(\"taplc_location_reviews_list_resp_hr_resp_0\")"
   ]
  },
  {
   "cell_type": "code",
   "execution_count": 14,
   "metadata": {},
   "outputs": [],
   "source": [
    "btn = review_zone.find_element_by_css_selector(\"div.prw_rup.prw_reviews_text_summary_hsx > div > p > span\")"
   ]
  },
  {
   "cell_type": "code",
   "execution_count": 15,
   "metadata": {},
   "outputs": [],
   "source": [
    "btn.click()"
   ]
  },
  {
   "cell_type": "code",
   "execution_count": 16,
   "metadata": {},
   "outputs": [],
   "source": [
    "browser.quit()"
   ]
  },
  {
   "cell_type": "code",
   "execution_count": null,
   "metadata": {},
   "outputs": [],
   "source": [
    "#find the first button\n",
    "# first_btn = review_zone.(\"ulBlueLinks\")\n",
    "first_btn = review_zone.find_element_by_css_selector(\"div.prw_rup.prw_reviews_text_summary_hsx > div > p > span\")\n",
    "first_btn.click()\n",
    "time.sleep(1)\n",
    "revs = review_zone.find_elements_by_css_selector(\"div.ui_column.is-9 > div.prw_rup.prw_reviews_text_summary_hsx > div > p\")\n",
    "assert len(revs) == 5\n",
    "for rev in revs:\n",
    "    data.append(rev.text)"
   ]
  },
  {
   "cell_type": "code",
   "execution_count": null,
   "metadata": {},
   "outputs": [],
   "source": [
    "//*[@id=\"review_615263430\"]/div/div[2]/div[2]/div/p/span\n",
    "//*[@id=\"review_616230222\"]/div/div[2]/div[2]/div/p/span\n",
    "#review_616230222 > div > div.ui_column.is-9 > div.prw_rup.prw_reviews_text_summary_hsx > div > p > span\n",
    "//*[@id=\"taplc_location_reviews_list_resp_hr_resp_0\"]"
   ]
  },
  {
   "cell_type": "code",
   "execution_count": 185,
   "metadata": {},
   "outputs": [],
   "source": [
    "from selenium.webdriver.common.by import By\n",
    "from selenium.webdriver.support.ui import WebDriverWait\n",
    "from selenium.webdriver.support import expected_conditions as EC\n",
    "import time\n",
    "\n",
    "review_link = review_links[0] # page i + 1\n",
    "\n",
    "data = []\n",
    "# browser = webdriver.Firefox(options=opts)\n",
    "browser = webdriver.Firefox()\n",
    "wait = WebDriverWait(browser, 10)\n",
    "# browser.implicitly_wait(30)\n",
    "browser.get(review_link)\n",
    "review_zone = browser.find_element_by_id(\"taplc_location_reviews_list_resp_hr_resp_0\")\n",
    "#find the first button\n",
    "wait.until_not(EC.visibility_of_element_located((By.CLASS_NAME, \"tabs_pers_titles\")))\n",
    "review_zone.find_element_by_css_selector(\"div.prw_rup.prw_reviews_text_summary_hsx > div > p > span\").click()\n",
    "browser.implicitly_wait(2)\n",
    "wait.until(EC.visibility_of_all_elements_located((By.CSS_SELECTOR, 'div.ui_column.is-9 > div.prw_rup.prw_reviews_text_summary_hsx > div > p')))\n",
    "revs = review_zone.find_elements_by_css_selector(\"div.ui_column.is-9 > div.prw_rup.prw_reviews_text_summary_hsx > div > p\")\n",
    "assert len(revs) == 5\n",
    "for rev in revs:\n",
    "    data.append(rev.text)\n",
    "    \n",
    "num_pages = int(review_zone.find_element_by_css_selector(\"a.pageNum.last.taLnk\").text)\n",
    "num_pages = 3\n",
    "i = 1\n",
    "while i<num_pages:\n",
    "    i += 1\n",
    "    try:\n",
    "        # located next button and clicked on it\n",
    "        review_zone.find_element_by_css_selector(\"a.nav.next.taLnk.ui_button.primary\").click()\n",
    "        try:\n",
    "            wait.until(EC.visibility_of_all_elements_located((By.CSS_SELECTOR, 'div.ui_column.is-9 > div.prw_rup.prw_reviews_text_summary_hsx > div > p > span')))\n",
    "            wait.until_not(EC.visibility_of_element_located((By.ID, \"taplc_hotels_loading_box_hr_resp_0\")))\n",
    "            review_zone.find_element_by_css_selector(\"div.prw_rup.prw_reviews_text_summary_hsx > div > p > span\").click()\n",
    "            wait.until(EC.visibility_of_all_elements_located((By.CSS_SELECTOR, 'div.ui_column.is-9 > div.prw_rup.prw_reviews_text_summary_hsx > div > p')))\n",
    "        except:\n",
    "            # In case of not having a <more> field\n",
    "            wait.until(EC.visibility_of_all_elements_located((By.CSS_SELECTOR, 'div.ui_column.is-9 > div.prw_rup.prw_reviews_text_summary_hsx > div > p')))\n",
    "            print(\"Page %d doesn't have a more section\"%i)\n",
    "            \n",
    "            continue\n",
    "#         browser.implicitly_wait(2)\n",
    "        time.sleep(2)\n",
    "        try:\n",
    "            revs = review_zone.find_elements_by_css_selector(\"div.ui_column.is-9 > div.prw_rup.prw_reviews_text_summary_hsx > div > p\")\n",
    "            assert len(revs) == 5\n",
    "            for rev in revs:\n",
    "                data.append(rev.text)\n",
    "        except:\n",
    "            wait.until(EC.visibility_of_all_elements_located((By.CSS_SELECTOR, 'div.ui_column.is-9 > div.prw_rup.prw_reviews_text_summary_hsx > div > p')))\n",
    "            time.sleep(2)\n",
    "            revs = review_zone.find_elements_by_css_selector(\"div.ui_column.is-9 > div.prw_rup.prw_reviews_text_summary_hsx > div > p\")\n",
    "            assert len(revs) == 5\n",
    "            for rev in revs:\n",
    "                data.append(rev.text)\n",
    "    except:\n",
    "        print(\"Can't read the reviews at page %d\"%i)\n",
    "        continue\n",
    "browser.quit()"
   ]
  },
  {
   "cell_type": "code",
   "execution_count": 116,
   "metadata": {},
   "outputs": [],
   "source": [
    "browser.quit()"
   ]
  },
  {
   "cell_type": "code",
   "execution_count": 70,
   "metadata": {},
   "outputs": [],
   "source": [
    "nxt = review_zone.find_element_by_css_selector(\"a.nav.next.taLnk.ui_button.primary\")\n",
    "nxt.click()"
   ]
  },
  {
   "cell_type": "code",
   "execution_count": 71,
   "metadata": {},
   "outputs": [],
   "source": [
    "first_btn = review_zone.find_element_by_class_name(\"ulBlueLinks\")\n",
    "first_btn.click()\n",
    "browser.implicitly_wait(2)"
   ]
  },
  {
   "cell_type": "code",
   "execution_count": 72,
   "metadata": {},
   "outputs": [],
   "source": [
    "revs = review_zone.find_elements_by_class_name(\"ui_column.is-9\")\n",
    "revs = review_zone.find_elements_by_css_selector(\"div.ui_column.is-9 > div.prw_rup.prw_reviews_text_summary_hsx > div > p\")\n",
    "assert len(revs) == 5\n",
    "for rev in revs:\n",
    "    data.append(rev.text)"
   ]
  },
  {
   "cell_type": "code",
   "execution_count": 21,
   "metadata": {},
   "outputs": [],
   "source": [
    "#taplc_location_reviews_list_resp_hr_resp_0 > div > div:nth-child(10) > div > div > div > a.pageNum.last.taLnk\n",
    "#taplc_location_reviews_list_resp_hr_resp_0 > div > div:nth-child(10) > div > div > a.nav.next.taLnk.ui_button.primary\n",
    "#taplc_location_reviews_list_resp_hr_resp_0 > div > div:nth-child(10) > div > div > a.nav.next.taLnk.ui_button.primary\n",
    "#taplc_location_reviews_list_resp_hr_resp_0 > div > div:nth-child(10) > div > div > a.nav.next.taLnk.ui_button.primary"
   ]
  },
  {
   "cell_type": "code",
   "execution_count": 113,
   "metadata": {},
   "outputs": [
    {
     "data": {
      "text/plain": [
       "[]"
      ]
     },
     "execution_count": 113,
     "metadata": {},
     "output_type": "execute_result"
    }
   ],
   "source": [
    "review_zone.find_elements_by_css_selector(\"div.ui_column.is-9 > div.prw_rup.prw_reviews_text_summary_hsx > div > p\")"
   ]
  },
  {
   "cell_type": "code",
   "execution_count": null,
   "metadata": {},
   "outputs": [],
   "source": []
  }
 ],
 "metadata": {
  "kernelspec": {
   "display_name": "Python 3",
   "language": "python",
   "name": "python3"
  },
  "language_info": {
   "codemirror_mode": {
    "name": "ipython",
    "version": 3
   },
   "file_extension": ".py",
   "mimetype": "text/x-python",
   "name": "python",
   "nbconvert_exporter": "python",
   "pygments_lexer": "ipython3",
   "version": "3.6.6"
  }
 },
 "nbformat": 4,
 "nbformat_minor": 2
}
